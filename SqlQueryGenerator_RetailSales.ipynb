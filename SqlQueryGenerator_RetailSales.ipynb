{
  "cells": [
    {
      "cell_type": "code",
      "execution_count": null,
      "metadata": {
        "colab": {
          "base_uri": "https://localhost:8080/"
        },
        "id": "MKCeNJUGpWe7",
        "outputId": "53d8f711-ec23-49d9-b8d2-6a405612f93c"
      },
      "outputs": [
        {
          "name": "stdout",
          "output_type": "stream",
          "text": [
            "Collecting langchain-google-genai\n",
            "  Downloading langchain_google_genai-2.1.4-py3-none-any.whl.metadata (5.2 kB)\n",
            "Collecting filetype<2.0.0,>=1.2.0 (from langchain-google-genai)\n",
            "  Downloading filetype-1.2.0-py2.py3-none-any.whl.metadata (6.5 kB)\n",
            "Collecting google-ai-generativelanguage<0.7.0,>=0.6.18 (from langchain-google-genai)\n",
            "  Downloading google_ai_generativelanguage-0.6.18-py3-none-any.whl.metadata (9.8 kB)\n",
            "Collecting langchain-core<0.4.0,>=0.3.52 (from langchain-google-genai)\n",
            "  Downloading langchain_core-0.3.60-py3-none-any.whl.metadata (5.8 kB)\n",
            "Requirement already satisfied: pydantic<3,>=2 in c:\\users\\hp\\appdata\\local\\programs\\python\\python312\\lib\\site-packages (from langchain-google-genai) (2.9.2)\n",
            "Collecting google-api-core!=2.0.*,!=2.1.*,!=2.10.*,!=2.2.*,!=2.3.*,!=2.4.*,!=2.5.*,!=2.6.*,!=2.7.*,!=2.8.*,!=2.9.*,<3.0.0,>=1.34.1 (from google-api-core[grpc]!=2.0.*,!=2.1.*,!=2.10.*,!=2.2.*,!=2.3.*,!=2.4.*,!=2.5.*,!=2.6.*,!=2.7.*,!=2.8.*,!=2.9.*,<3.0.0,>=1.34.1->google-ai-generativelanguage<0.7.0,>=0.6.18->langchain-google-genai)\n",
            "  Downloading google_api_core-2.24.2-py3-none-any.whl.metadata (3.0 kB)\n",
            "Collecting google-auth!=2.24.0,!=2.25.0,<3.0.0,>=2.14.1 (from google-ai-generativelanguage<0.7.0,>=0.6.18->langchain-google-genai)\n",
            "  Downloading google_auth-2.40.2-py2.py3-none-any.whl.metadata (6.2 kB)\n",
            "Collecting proto-plus<2.0.0,>=1.22.3 (from google-ai-generativelanguage<0.7.0,>=0.6.18->langchain-google-genai)\n",
            "  Downloading proto_plus-1.26.1-py3-none-any.whl.metadata (2.2 kB)\n",
            "Requirement already satisfied: protobuf!=4.21.0,!=4.21.1,!=4.21.2,!=4.21.3,!=4.21.4,!=4.21.5,<7.0.0,>=3.20.2 in c:\\users\\hp\\appdata\\local\\programs\\python\\python312\\lib\\site-packages (from google-ai-generativelanguage<0.7.0,>=0.6.18->langchain-google-genai) (4.25.4)\n",
            "Collecting langsmith<0.4,>=0.1.126 (from langchain-core<0.4.0,>=0.3.52->langchain-google-genai)\n",
            "  Downloading langsmith-0.3.42-py3-none-any.whl.metadata (15 kB)\n",
            "Collecting tenacity!=8.4.0,<10.0.0,>=8.1.0 (from langchain-core<0.4.0,>=0.3.52->langchain-google-genai)\n",
            "  Downloading tenacity-9.1.2-py3-none-any.whl.metadata (1.2 kB)\n",
            "Collecting jsonpatch<2.0,>=1.33 (from langchain-core<0.4.0,>=0.3.52->langchain-google-genai)\n",
            "  Using cached jsonpatch-1.33-py2.py3-none-any.whl.metadata (3.0 kB)\n",
            "Requirement already satisfied: PyYAML>=5.3 in c:\\users\\hp\\appdata\\local\\programs\\python\\python312\\lib\\site-packages (from langchain-core<0.4.0,>=0.3.52->langchain-google-genai) (6.0.1)\n",
            "Requirement already satisfied: packaging<25,>=23.2 in c:\\users\\hp\\appdata\\local\\programs\\python\\python312\\lib\\site-packages (from langchain-core<0.4.0,>=0.3.52->langchain-google-genai) (24.1)\n",
            "Requirement already satisfied: typing-extensions>=4.7 in c:\\users\\hp\\appdata\\local\\programs\\python\\python312\\lib\\site-packages (from langchain-core<0.4.0,>=0.3.52->langchain-google-genai) (4.12.2)\n",
            "Requirement already satisfied: annotated-types>=0.6.0 in c:\\users\\hp\\appdata\\local\\programs\\python\\python312\\lib\\site-packages (from pydantic<3,>=2->langchain-google-genai) (0.7.0)\n",
            "Requirement already satisfied: pydantic-core==2.23.4 in c:\\users\\hp\\appdata\\local\\programs\\python\\python312\\lib\\site-packages (from pydantic<3,>=2->langchain-google-genai) (2.23.4)\n",
            "Collecting googleapis-common-protos<2.0.0,>=1.56.2 (from google-api-core!=2.0.*,!=2.1.*,!=2.10.*,!=2.2.*,!=2.3.*,!=2.4.*,!=2.5.*,!=2.6.*,!=2.7.*,!=2.8.*,!=2.9.*,<3.0.0,>=1.34.1->google-api-core[grpc]!=2.0.*,!=2.1.*,!=2.10.*,!=2.2.*,!=2.3.*,!=2.4.*,!=2.5.*,!=2.6.*,!=2.7.*,!=2.8.*,!=2.9.*,<3.0.0,>=1.34.1->google-ai-generativelanguage<0.7.0,>=0.6.18->langchain-google-genai)\n",
            "  Downloading googleapis_common_protos-1.70.0-py3-none-any.whl.metadata (9.3 kB)\n",
            "Requirement already satisfied: requests<3.0.0,>=2.18.0 in c:\\users\\hp\\appdata\\local\\programs\\python\\python312\\lib\\site-packages (from google-api-core!=2.0.*,!=2.1.*,!=2.10.*,!=2.2.*,!=2.3.*,!=2.4.*,!=2.5.*,!=2.6.*,!=2.7.*,!=2.8.*,!=2.9.*,<3.0.0,>=1.34.1->google-api-core[grpc]!=2.0.*,!=2.1.*,!=2.10.*,!=2.2.*,!=2.3.*,!=2.4.*,!=2.5.*,!=2.6.*,!=2.7.*,!=2.8.*,!=2.9.*,<3.0.0,>=1.34.1->google-ai-generativelanguage<0.7.0,>=0.6.18->langchain-google-genai) (2.32.3)\n",
            "Requirement already satisfied: grpcio<2.0dev,>=1.33.2 in c:\\users\\hp\\appdata\\local\\programs\\python\\python312\\lib\\site-packages (from google-api-core[grpc]!=2.0.*,!=2.1.*,!=2.10.*,!=2.2.*,!=2.3.*,!=2.4.*,!=2.5.*,!=2.6.*,!=2.7.*,!=2.8.*,!=2.9.*,<3.0.0,>=1.34.1->google-ai-generativelanguage<0.7.0,>=0.6.18->langchain-google-genai) (1.66.1)\n",
            "Collecting grpcio-status<2.0.dev0,>=1.33.2 (from google-api-core[grpc]!=2.0.*,!=2.1.*,!=2.10.*,!=2.2.*,!=2.3.*,!=2.4.*,!=2.5.*,!=2.6.*,!=2.7.*,!=2.8.*,!=2.9.*,<3.0.0,>=1.34.1->google-ai-generativelanguage<0.7.0,>=0.6.18->langchain-google-genai)\n",
            "  Downloading grpcio_status-1.71.0-py3-none-any.whl.metadata (1.1 kB)\n",
            "Collecting cachetools<6.0,>=2.0.0 (from google-auth!=2.24.0,!=2.25.0,<3.0.0,>=2.14.1->google-ai-generativelanguage<0.7.0,>=0.6.18->langchain-google-genai)\n",
            "  Downloading cachetools-5.5.2-py3-none-any.whl.metadata (5.4 kB)\n",
            "Collecting pyasn1-modules>=0.2.1 (from google-auth!=2.24.0,!=2.25.0,<3.0.0,>=2.14.1->google-ai-generativelanguage<0.7.0,>=0.6.18->langchain-google-genai)\n",
            "  Downloading pyasn1_modules-0.4.2-py3-none-any.whl.metadata (3.5 kB)\n",
            "Collecting rsa<5,>=3.1.4 (from google-auth!=2.24.0,!=2.25.0,<3.0.0,>=2.14.1->google-ai-generativelanguage<0.7.0,>=0.6.18->langchain-google-genai)\n",
            "  Downloading rsa-4.9.1-py3-none-any.whl.metadata (5.6 kB)\n",
            "Requirement already satisfied: jsonpointer>=1.9 in c:\\users\\hp\\appdata\\local\\programs\\python\\python312\\lib\\site-packages (from jsonpatch<2.0,>=1.33->langchain-core<0.4.0,>=0.3.52->langchain-google-genai) (3.0.0)\n",
            "Requirement already satisfied: httpx<1,>=0.23.0 in c:\\users\\hp\\appdata\\local\\programs\\python\\python312\\lib\\site-packages (from langsmith<0.4,>=0.1.126->langchain-core<0.4.0,>=0.3.52->langchain-google-genai) (0.27.0)\n",
            "Collecting orjson<4.0.0,>=3.9.14 (from langsmith<0.4,>=0.1.126->langchain-core<0.4.0,>=0.3.52->langchain-google-genai)\n",
            "  Downloading orjson-3.10.18-cp312-cp312-win_amd64.whl.metadata (43 kB)\n",
            "     ---------------------------------------- 0.0/43.0 kB ? eta -:--:--\n",
            "     ---------------------------------------- 43.0/43.0 kB 1.0 MB/s eta 0:00:00\n",
            "Collecting requests-toolbelt<2.0.0,>=1.0.0 (from langsmith<0.4,>=0.1.126->langchain-core<0.4.0,>=0.3.52->langchain-google-genai)\n",
            "  Using cached requests_toolbelt-1.0.0-py2.py3-none-any.whl.metadata (14 kB)\n",
            "Collecting zstandard<0.24.0,>=0.23.0 (from langsmith<0.4,>=0.1.126->langchain-core<0.4.0,>=0.3.52->langchain-google-genai)\n",
            "  Using cached zstandard-0.23.0-cp312-cp312-win_amd64.whl.metadata (3.0 kB)\n",
            "Collecting protobuf!=4.21.0,!=4.21.1,!=4.21.2,!=4.21.3,!=4.21.4,!=4.21.5,<7.0.0,>=3.20.2 (from google-ai-generativelanguage<0.7.0,>=0.6.18->langchain-google-genai)\n",
            "  Downloading protobuf-5.29.4-cp310-abi3-win_amd64.whl.metadata (592 bytes)\n",
            "Collecting grpcio<2.0dev,>=1.33.2 (from google-api-core[grpc]!=2.0.*,!=2.1.*,!=2.10.*,!=2.2.*,!=2.3.*,!=2.4.*,!=2.5.*,!=2.6.*,!=2.7.*,!=2.8.*,!=2.9.*,<3.0.0,>=1.34.1->google-ai-generativelanguage<0.7.0,>=0.6.18->langchain-google-genai)\n",
            "  Downloading grpcio-1.71.0-cp312-cp312-win_amd64.whl.metadata (4.0 kB)\n",
            "Requirement already satisfied: anyio in c:\\users\\hp\\appdata\\local\\programs\\python\\python312\\lib\\site-packages (from httpx<1,>=0.23.0->langsmith<0.4,>=0.1.126->langchain-core<0.4.0,>=0.3.52->langchain-google-genai) (4.4.0)\n",
            "Requirement already satisfied: certifi in c:\\users\\hp\\appdata\\local\\programs\\python\\python312\\lib\\site-packages (from httpx<1,>=0.23.0->langsmith<0.4,>=0.1.126->langchain-core<0.4.0,>=0.3.52->langchain-google-genai) (2024.6.2)\n",
            "Requirement already satisfied: httpcore==1.* in c:\\users\\hp\\appdata\\local\\programs\\python\\python312\\lib\\site-packages (from httpx<1,>=0.23.0->langsmith<0.4,>=0.1.126->langchain-core<0.4.0,>=0.3.52->langchain-google-genai) (1.0.5)\n",
            "Requirement already satisfied: idna in c:\\users\\hp\\appdata\\local\\programs\\python\\python312\\lib\\site-packages (from httpx<1,>=0.23.0->langsmith<0.4,>=0.1.126->langchain-core<0.4.0,>=0.3.52->langchain-google-genai) (3.7)\n",
            "Requirement already satisfied: sniffio in c:\\users\\hp\\appdata\\local\\programs\\python\\python312\\lib\\site-packages (from httpx<1,>=0.23.0->langsmith<0.4,>=0.1.126->langchain-core<0.4.0,>=0.3.52->langchain-google-genai) (1.3.1)\n",
            "Requirement already satisfied: h11<0.15,>=0.13 in c:\\users\\hp\\appdata\\local\\programs\\python\\python312\\lib\\site-packages (from httpcore==1.*->httpx<1,>=0.23.0->langsmith<0.4,>=0.1.126->langchain-core<0.4.0,>=0.3.52->langchain-google-genai) (0.14.0)\n",
            "Collecting pyasn1<0.7.0,>=0.6.1 (from pyasn1-modules>=0.2.1->google-auth!=2.24.0,!=2.25.0,<3.0.0,>=2.14.1->google-ai-generativelanguage<0.7.0,>=0.6.18->langchain-google-genai)\n",
            "  Downloading pyasn1-0.6.1-py3-none-any.whl.metadata (8.4 kB)\n",
            "Requirement already satisfied: charset-normalizer<4,>=2 in c:\\users\\hp\\appdata\\local\\programs\\python\\python312\\lib\\site-packages (from requests<3.0.0,>=2.18.0->google-api-core!=2.0.*,!=2.1.*,!=2.10.*,!=2.2.*,!=2.3.*,!=2.4.*,!=2.5.*,!=2.6.*,!=2.7.*,!=2.8.*,!=2.9.*,<3.0.0,>=1.34.1->google-api-core[grpc]!=2.0.*,!=2.1.*,!=2.10.*,!=2.2.*,!=2.3.*,!=2.4.*,!=2.5.*,!=2.6.*,!=2.7.*,!=2.8.*,!=2.9.*,<3.0.0,>=1.34.1->google-ai-generativelanguage<0.7.0,>=0.6.18->langchain-google-genai) (3.3.2)\n",
            "Requirement already satisfied: urllib3<3,>=1.21.1 in c:\\users\\hp\\appdata\\local\\programs\\python\\python312\\lib\\site-packages (from requests<3.0.0,>=2.18.0->google-api-core!=2.0.*,!=2.1.*,!=2.10.*,!=2.2.*,!=2.3.*,!=2.4.*,!=2.5.*,!=2.6.*,!=2.7.*,!=2.8.*,!=2.9.*,<3.0.0,>=1.34.1->google-api-core[grpc]!=2.0.*,!=2.1.*,!=2.10.*,!=2.2.*,!=2.3.*,!=2.4.*,!=2.5.*,!=2.6.*,!=2.7.*,!=2.8.*,!=2.9.*,<3.0.0,>=1.34.1->google-ai-generativelanguage<0.7.0,>=0.6.18->langchain-google-genai) (2.2.2)\n",
            "Downloading langchain_google_genai-2.1.4-py3-none-any.whl (44 kB)\n",
            "   ---------------------------------------- 0.0/44.3 kB ? eta -:--:--\n",
            "   ---------------------------------------- 44.3/44.3 kB 2.1 MB/s eta 0:00:00\n",
            "Downloading filetype-1.2.0-py2.py3-none-any.whl (19 kB)\n",
            "Downloading google_ai_generativelanguage-0.6.18-py3-none-any.whl (1.4 MB)\n",
            "   ---------------------------------------- 0.0/1.4 MB ? eta -:--:--\n",
            "   -------- ------------------------------- 0.3/1.4 MB 5.7 MB/s eta 0:00:01\n",
            "   ---------------- ----------------------- 0.6/1.4 MB 5.9 MB/s eta 0:00:01\n",
            "   ---------------------- ----------------- 0.8/1.4 MB 5.3 MB/s eta 0:00:01\n",
            "   ------------------------------ --------- 1.0/1.4 MB 6.0 MB/s eta 0:00:01\n",
            "   ------------------------------------- -- 1.3/1.4 MB 5.8 MB/s eta 0:00:01\n",
            "   ---------------------------------------  1.4/1.4 MB 5.8 MB/s eta 0:00:01\n",
            "   ---------------------------------------- 1.4/1.4 MB 4.8 MB/s eta 0:00:00\n",
            "Downloading langchain_core-0.3.60-py3-none-any.whl (437 kB)\n",
            "   ---------------------------------------- 0.0/437.9 kB ? eta -:--:--\n",
            "   -------------------------- ------------- 286.7/437.9 kB 8.9 MB/s eta 0:00:01\n",
            "   ---------------------------------------- 437.9/437.9 kB 6.8 MB/s eta 0:00:00\n",
            "Downloading google_api_core-2.24.2-py3-none-any.whl (160 kB)\n",
            "   ---------------------------------------- 0.0/160.1 kB ? eta -:--:--\n",
            "   ---------------------------------------- 160.1/160.1 kB 4.8 MB/s eta 0:00:00\n",
            "Downloading google_auth-2.40.2-py2.py3-none-any.whl (216 kB)\n",
            "   ---------------------------------------- 0.0/216.1 kB ? eta -:--:--\n",
            "   ---------------------------------------- 216.1/216.1 kB 6.6 MB/s eta 0:00:00\n",
            "Using cached jsonpatch-1.33-py2.py3-none-any.whl (12 kB)\n",
            "Downloading langsmith-0.3.42-py3-none-any.whl (360 kB)\n",
            "   ---------------------------------------- 0.0/360.3 kB ? eta -:--:--\n",
            "   ----------------------------------- ---- 317.4/360.3 kB 6.5 MB/s eta 0:00:01\n",
            "   ---------------------------------------- 360.3/360.3 kB 5.6 MB/s eta 0:00:00\n",
            "Downloading proto_plus-1.26.1-py3-none-any.whl (50 kB)\n",
            "   ---------------------------------------- 0.0/50.2 kB ? eta -:--:--\n",
            "   ---------------------------------------- 50.2/50.2 kB 2.5 MB/s eta 0:00:00\n",
            "Downloading tenacity-9.1.2-py3-none-any.whl (28 kB)\n",
            "Downloading cachetools-5.5.2-py3-none-any.whl (10 kB)\n",
            "Downloading googleapis_common_protos-1.70.0-py3-none-any.whl (294 kB)\n",
            "   ---------------------------------------- 0.0/294.5 kB ? eta -:--:--\n",
            "   --------------------------------------- 294.5/294.5 kB 17.8 MB/s eta 0:00:00\n",
            "Downloading grpcio_status-1.71.0-py3-none-any.whl (14 kB)\n",
            "Downloading protobuf-5.29.4-cp310-abi3-win_amd64.whl (434 kB)\n",
            "   ---------------------------------------- 0.0/434.5 kB ? eta -:--:--\n",
            "   ------------------------ --------------- 266.2/434.5 kB 8.3 MB/s eta 0:00:01\n",
            "   ---------------------------------------- 434.5/434.5 kB 6.8 MB/s eta 0:00:00\n",
            "Downloading grpcio-1.71.0-cp312-cp312-win_amd64.whl (4.3 MB)\n",
            "   ---------------------------------------- 0.0/4.3 MB ? eta -:--:--\n",
            "   -- ------------------------------------- 0.3/4.3 MB 6.7 MB/s eta 0:00:01\n",
            "   ------ --------------------------------- 0.6/4.3 MB 6.8 MB/s eta 0:00:01\n",
            "   -------- ------------------------------- 0.9/4.3 MB 6.1 MB/s eta 0:00:01\n",
            "   ---------- ----------------------------- 1.2/4.3 MB 6.7 MB/s eta 0:00:01\n",
            "   ------------- -------------------------- 1.4/4.3 MB 6.0 MB/s eta 0:00:01\n",
            "   ---------------- ----------------------- 1.8/4.3 MB 6.3 MB/s eta 0:00:01\n",
            "   ------------------ --------------------- 1.9/4.3 MB 6.5 MB/s eta 0:00:01\n",
            "   -------------------- ------------------- 2.1/4.3 MB 5.5 MB/s eta 0:00:01\n",
            "   ----------------------- ---------------- 2.5/4.3 MB 5.7 MB/s eta 0:00:01\n",
            "   -------------------------- ------------- 2.8/4.3 MB 5.8 MB/s eta 0:00:01\n",
            "   --------------------------- ------------ 3.0/4.3 MB 5.7 MB/s eta 0:00:01\n",
            "   ----------------------------- ---------- 3.1/4.3 MB 5.6 MB/s eta 0:00:01\n",
            "   --------------------------------- ------ 3.6/4.3 MB 5.7 MB/s eta 0:00:01\n",
            "   ----------------------------------- ---- 3.8/4.3 MB 5.7 MB/s eta 0:00:01\n",
            "   ------------------------------------- -- 4.0/4.3 MB 5.5 MB/s eta 0:00:01\n",
            "   ---------------------------------------  4.2/4.3 MB 5.5 MB/s eta 0:00:01\n",
            "   ---------------------------------------  4.3/4.3 MB 5.2 MB/s eta 0:00:01\n",
            "   ---------------------------------------- 4.3/4.3 MB 5.0 MB/s eta 0:00:00\n",
            "Downloading orjson-3.10.18-cp312-cp312-win_amd64.whl (134 kB)\n",
            "   ---------------------------------------- 0.0/134.8 kB ? eta -:--:--\n",
            "   ---------------------------------------- 134.8/134.8 kB 4.0 MB/s eta 0:00:00\n",
            "Downloading pyasn1_modules-0.4.2-py3-none-any.whl (181 kB)\n",
            "   ---------------------------------------- 0.0/181.3 kB ? eta -:--:--\n",
            "   -------------------------------------- - 174.1/181.3 kB 5.1 MB/s eta 0:00:01\n",
            "   ---------------------------------------- 181.3/181.3 kB 5.3 MB/s eta 0:00:00\n",
            "Using cached requests_toolbelt-1.0.0-py2.py3-none-any.whl (54 kB)\n",
            "Downloading rsa-4.9.1-py3-none-any.whl (34 kB)\n",
            "Using cached zstandard-0.23.0-cp312-cp312-win_amd64.whl (495 kB)\n",
            "Downloading pyasn1-0.6.1-py3-none-any.whl (83 kB)\n",
            "   ---------------------------------------- 0.0/83.1 kB ? eta -:--:--\n",
            "   ---------------------------------------- 83.1/83.1 kB ? eta 0:00:00\n",
            "Installing collected packages: filetype, zstandard, tenacity, pyasn1, protobuf, orjson, jsonpatch, grpcio, cachetools, rsa, requests-toolbelt, pyasn1-modules, proto-plus, googleapis-common-protos, langsmith, grpcio-status, google-auth, langchain-core, google-api-core, google-ai-generativelanguage, langchain-google-genai\n",
            "  Attempting uninstall: protobuf\n",
            "    Found existing installation: protobuf 4.25.4\n",
            "    Uninstalling protobuf-4.25.4:\n",
            "      Successfully uninstalled protobuf-4.25.4\n",
            "  Attempting uninstall: grpcio\n",
            "    Found existing installation: grpcio 1.66.1\n",
            "    Uninstalling grpcio-1.66.1:\n",
            "      Successfully uninstalled grpcio-1.66.1\n",
            "Successfully installed cachetools-5.5.2 filetype-1.2.0 google-ai-generativelanguage-0.6.18 google-api-core-2.24.2 google-auth-2.40.2 googleapis-common-protos-1.70.0 grpcio-1.71.0 grpcio-status-1.71.0 jsonpatch-1.33 langchain-core-0.3.60 langchain-google-genai-2.1.4 langsmith-0.3.42 orjson-3.10.18 proto-plus-1.26.1 protobuf-5.29.4 pyasn1-0.6.1 pyasn1-modules-0.4.2 requests-toolbelt-1.0.0 rsa-4.9.1 tenacity-9.1.2 zstandard-0.23.0\n"
          ]
        },
        {
          "name": "stderr",
          "output_type": "stream",
          "text": [
            "ERROR: pip's dependency resolver does not currently take into account all the packages that are installed. This behaviour is the source of the following dependency conflicts.\n",
            "tensorflow-intel 2.17.0 requires protobuf!=4.21.0,!=4.21.1,!=4.21.2,!=4.21.3,!=4.21.4,!=4.21.5,<5.0.0dev,>=3.20.3, but you have protobuf 5.29.4 which is incompatible.\n",
            "\n",
            "[notice] A new release of pip is available: 24.0 -> 25.1.1\n",
            "[notice] To update, run: python.exe -m pip install --upgrade pip\n"
          ]
        }
      ],
      "source": [
        "!pip install langchain-google-genai"
      ]
    },
    {
      "cell_type": "code",
      "execution_count": 2,
      "metadata": {
        "colab": {
          "base_uri": "https://localhost:8080/"
        },
        "id": "Liv8yrwgqMw3",
        "outputId": "f8301756-8be6-4f2c-98c5-38e5ca1fe782"
      },
      "outputs": [
        {
          "name": "stdout",
          "output_type": "stream",
          "text": [
            "Collecting python-dotenv\n",
            "  Downloading python_dotenv-1.1.0-py3-none-any.whl.metadata (24 kB)\n",
            "Downloading python_dotenv-1.1.0-py3-none-any.whl (20 kB)\n",
            "Installing collected packages: python-dotenv\n",
            "Successfully installed python-dotenv-1.1.0\n"
          ]
        },
        {
          "name": "stderr",
          "output_type": "stream",
          "text": [
            "\n",
            "[notice] A new release of pip is available: 24.0 -> 25.1.1\n",
            "[notice] To update, run: python.exe -m pip install --upgrade pip\n"
          ]
        }
      ],
      "source": [
        "!pip install python-dotenv"
      ]
    },
    {
      "cell_type": "code",
      "execution_count": 3,
      "metadata": {
        "id": "fw78_XKgmioX"
      },
      "outputs": [],
      "source": [
        "from langchain_google_genai import GoogleGenerativeAI\n",
        "\n",
        "import os\n",
        "from dotenv import load_dotenv\n",
        "load_dotenv()\n",
        "\n",
        "#llm = GoogleGenerativeAI(model=\"models/text-bison-001\", google_api_key=os.environ[\"GOOGLE_API_KEY\"])\n",
        "llm = GoogleGenerativeAI(model=\"gemini-1.5-flash\", google_api_key=os.environ[\"GOOGLE_API_KEY\"])\n"
      ]
    },
    {
      "cell_type": "code",
      "execution_count": 5,
      "metadata": {
        "colab": {
          "base_uri": "https://localhost:8080/"
        },
        "id": "yAHhpESWoVKZ",
        "outputId": "dd6ddab5-c75b-47f6-914a-d2f21891ce62"
      },
      "outputs": [
        {
          "name": "stdout",
          "output_type": "stream",
          "text": [
            "AI is broad; it encompasses any technique that enables computers to mimic human intelligence.  AGI (Artificial General Intelligence) is a *subset* of AI –  it refers to AI with human-level intelligence across *all* tasks, not just specialized ones.  AI is here; AGI is still hypothetical.\n"
          ]
        }
      ],
      "source": [
        "print(llm(\"what is AGI vs Ai, Tell me in short\"))"
      ]
    },
    {
      "cell_type": "markdown",
      "metadata": {
        "id": "W52p8-P7rni9"
      },
      "source": [
        "#Connect with database and ask some basic questions"
      ]
    },
    {
      "cell_type": "code",
      "execution_count": 10,
      "metadata": {
        "colab": {
          "base_uri": "https://localhost:8080/"
        },
        "id": "XKkr4_JPwUOc",
        "outputId": "c9f1c564-c405-4522-d48d-d36f4343ff97"
      },
      "outputs": [
        {
          "name": "stdout",
          "output_type": "stream",
          "text": [
            "Requirement already satisfied: langchain_experimental in c:\\users\\hp\\appdata\\local\\programs\\python\\python312\\lib\\site-packages (0.3.4)\n",
            "Requirement already satisfied: langchain-community<0.4.0,>=0.3.0 in c:\\users\\hp\\appdata\\local\\programs\\python\\python312\\lib\\site-packages (from langchain_experimental) (0.3.24)\n",
            "Requirement already satisfied: langchain-core<0.4.0,>=0.3.28 in c:\\users\\hp\\appdata\\local\\programs\\python\\python312\\lib\\site-packages (from langchain_experimental) (0.3.60)\n",
            "Requirement already satisfied: langchain<1.0.0,>=0.3.25 in c:\\users\\hp\\appdata\\local\\programs\\python\\python312\\lib\\site-packages (from langchain-community<0.4.0,>=0.3.0->langchain_experimental) (0.3.25)\n",
            "Requirement already satisfied: SQLAlchemy<3,>=1.4 in c:\\users\\hp\\appdata\\local\\programs\\python\\python312\\lib\\site-packages (from langchain-community<0.4.0,>=0.3.0->langchain_experimental) (2.0.41)\n",
            "Requirement already satisfied: requests<3,>=2 in c:\\users\\hp\\appdata\\local\\programs\\python\\python312\\lib\\site-packages (from langchain-community<0.4.0,>=0.3.0->langchain_experimental) (2.32.3)\n",
            "Requirement already satisfied: PyYAML>=5.3 in c:\\users\\hp\\appdata\\local\\programs\\python\\python312\\lib\\site-packages (from langchain-community<0.4.0,>=0.3.0->langchain_experimental) (6.0.1)\n",
            "Requirement already satisfied: aiohttp<4.0.0,>=3.8.3 in c:\\users\\hp\\appdata\\local\\programs\\python\\python312\\lib\\site-packages (from langchain-community<0.4.0,>=0.3.0->langchain_experimental) (3.11.18)\n",
            "Requirement already satisfied: tenacity!=8.4.0,<10,>=8.1.0 in c:\\users\\hp\\appdata\\local\\programs\\python\\python312\\lib\\site-packages (from langchain-community<0.4.0,>=0.3.0->langchain_experimental) (9.1.2)\n",
            "Requirement already satisfied: dataclasses-json<0.7,>=0.5.7 in c:\\users\\hp\\appdata\\local\\programs\\python\\python312\\lib\\site-packages (from langchain-community<0.4.0,>=0.3.0->langchain_experimental) (0.6.7)\n",
            "Requirement already satisfied: pydantic-settings<3.0.0,>=2.4.0 in c:\\users\\hp\\appdata\\local\\programs\\python\\python312\\lib\\site-packages (from langchain-community<0.4.0,>=0.3.0->langchain_experimental) (2.9.1)\n",
            "Requirement already satisfied: langsmith<0.4,>=0.1.125 in c:\\users\\hp\\appdata\\local\\programs\\python\\python312\\lib\\site-packages (from langchain-community<0.4.0,>=0.3.0->langchain_experimental) (0.3.42)\n",
            "Requirement already satisfied: httpx-sse<1.0.0,>=0.4.0 in c:\\users\\hp\\appdata\\local\\programs\\python\\python312\\lib\\site-packages (from langchain-community<0.4.0,>=0.3.0->langchain_experimental) (0.4.0)\n",
            "Requirement already satisfied: numpy>=1.26.2 in c:\\users\\hp\\appdata\\local\\programs\\python\\python312\\lib\\site-packages (from langchain-community<0.4.0,>=0.3.0->langchain_experimental) (1.26.4)\n",
            "Requirement already satisfied: jsonpatch<2.0,>=1.33 in c:\\users\\hp\\appdata\\local\\programs\\python\\python312\\lib\\site-packages (from langchain-core<0.4.0,>=0.3.28->langchain_experimental) (1.33)\n",
            "Requirement already satisfied: packaging<25,>=23.2 in c:\\users\\hp\\appdata\\local\\programs\\python\\python312\\lib\\site-packages (from langchain-core<0.4.0,>=0.3.28->langchain_experimental) (24.1)\n",
            "Requirement already satisfied: typing-extensions>=4.7 in c:\\users\\hp\\appdata\\local\\programs\\python\\python312\\lib\\site-packages (from langchain-core<0.4.0,>=0.3.28->langchain_experimental) (4.12.2)\n",
            "Requirement already satisfied: pydantic>=2.7.4 in c:\\users\\hp\\appdata\\local\\programs\\python\\python312\\lib\\site-packages (from langchain-core<0.4.0,>=0.3.28->langchain_experimental) (2.9.2)\n",
            "Requirement already satisfied: aiohappyeyeballs>=2.3.0 in c:\\users\\hp\\appdata\\local\\programs\\python\\python312\\lib\\site-packages (from aiohttp<4.0.0,>=3.8.3->langchain-community<0.4.0,>=0.3.0->langchain_experimental) (2.6.1)\n",
            "Requirement already satisfied: aiosignal>=1.1.2 in c:\\users\\hp\\appdata\\local\\programs\\python\\python312\\lib\\site-packages (from aiohttp<4.0.0,>=3.8.3->langchain-community<0.4.0,>=0.3.0->langchain_experimental) (1.3.2)\n",
            "Requirement already satisfied: attrs>=17.3.0 in c:\\users\\hp\\appdata\\local\\programs\\python\\python312\\lib\\site-packages (from aiohttp<4.0.0,>=3.8.3->langchain-community<0.4.0,>=0.3.0->langchain_experimental) (23.2.0)\n",
            "Requirement already satisfied: frozenlist>=1.1.1 in c:\\users\\hp\\appdata\\local\\programs\\python\\python312\\lib\\site-packages (from aiohttp<4.0.0,>=3.8.3->langchain-community<0.4.0,>=0.3.0->langchain_experimental) (1.6.0)\n",
            "Requirement already satisfied: multidict<7.0,>=4.5 in c:\\users\\hp\\appdata\\local\\programs\\python\\python312\\lib\\site-packages (from aiohttp<4.0.0,>=3.8.3->langchain-community<0.4.0,>=0.3.0->langchain_experimental) (6.4.4)\n",
            "Requirement already satisfied: propcache>=0.2.0 in c:\\users\\hp\\appdata\\local\\programs\\python\\python312\\lib\\site-packages (from aiohttp<4.0.0,>=3.8.3->langchain-community<0.4.0,>=0.3.0->langchain_experimental) (0.3.1)\n",
            "Requirement already satisfied: yarl<2.0,>=1.17.0 in c:\\users\\hp\\appdata\\local\\programs\\python\\python312\\lib\\site-packages (from aiohttp<4.0.0,>=3.8.3->langchain-community<0.4.0,>=0.3.0->langchain_experimental) (1.20.0)\n",
            "Requirement already satisfied: marshmallow<4.0.0,>=3.18.0 in c:\\users\\hp\\appdata\\local\\programs\\python\\python312\\lib\\site-packages (from dataclasses-json<0.7,>=0.5.7->langchain-community<0.4.0,>=0.3.0->langchain_experimental) (3.26.1)\n",
            "Requirement already satisfied: typing-inspect<1,>=0.4.0 in c:\\users\\hp\\appdata\\local\\programs\\python\\python312\\lib\\site-packages (from dataclasses-json<0.7,>=0.5.7->langchain-community<0.4.0,>=0.3.0->langchain_experimental) (0.9.0)\n",
            "Requirement already satisfied: jsonpointer>=1.9 in c:\\users\\hp\\appdata\\local\\programs\\python\\python312\\lib\\site-packages (from jsonpatch<2.0,>=1.33->langchain-core<0.4.0,>=0.3.28->langchain_experimental) (3.0.0)\n",
            "Requirement already satisfied: langchain-text-splitters<1.0.0,>=0.3.8 in c:\\users\\hp\\appdata\\local\\programs\\python\\python312\\lib\\site-packages (from langchain<1.0.0,>=0.3.25->langchain-community<0.4.0,>=0.3.0->langchain_experimental) (0.3.8)\n",
            "Requirement already satisfied: httpx<1,>=0.23.0 in c:\\users\\hp\\appdata\\local\\programs\\python\\python312\\lib\\site-packages (from langsmith<0.4,>=0.1.125->langchain-community<0.4.0,>=0.3.0->langchain_experimental) (0.27.0)\n",
            "Requirement already satisfied: orjson<4.0.0,>=3.9.14 in c:\\users\\hp\\appdata\\local\\programs\\python\\python312\\lib\\site-packages (from langsmith<0.4,>=0.1.125->langchain-community<0.4.0,>=0.3.0->langchain_experimental) (3.10.18)\n",
            "Requirement already satisfied: requests-toolbelt<2.0.0,>=1.0.0 in c:\\users\\hp\\appdata\\local\\programs\\python\\python312\\lib\\site-packages (from langsmith<0.4,>=0.1.125->langchain-community<0.4.0,>=0.3.0->langchain_experimental) (1.0.0)\n",
            "Requirement already satisfied: zstandard<0.24.0,>=0.23.0 in c:\\users\\hp\\appdata\\local\\programs\\python\\python312\\lib\\site-packages (from langsmith<0.4,>=0.1.125->langchain-community<0.4.0,>=0.3.0->langchain_experimental) (0.23.0)\n",
            "Requirement already satisfied: annotated-types>=0.6.0 in c:\\users\\hp\\appdata\\local\\programs\\python\\python312\\lib\\site-packages (from pydantic>=2.7.4->langchain-core<0.4.0,>=0.3.28->langchain_experimental) (0.7.0)\n",
            "Requirement already satisfied: pydantic-core==2.23.4 in c:\\users\\hp\\appdata\\local\\programs\\python\\python312\\lib\\site-packages (from pydantic>=2.7.4->langchain-core<0.4.0,>=0.3.28->langchain_experimental) (2.23.4)\n",
            "Requirement already satisfied: python-dotenv>=0.21.0 in c:\\users\\hp\\appdata\\local\\programs\\python\\python312\\lib\\site-packages (from pydantic-settings<3.0.0,>=2.4.0->langchain-community<0.4.0,>=0.3.0->langchain_experimental) (1.1.0)\n",
            "Requirement already satisfied: typing-inspection>=0.4.0 in c:\\users\\hp\\appdata\\local\\programs\\python\\python312\\lib\\site-packages (from pydantic-settings<3.0.0,>=2.4.0->langchain-community<0.4.0,>=0.3.0->langchain_experimental) (0.4.1)\n",
            "Requirement already satisfied: charset-normalizer<4,>=2 in c:\\users\\hp\\appdata\\local\\programs\\python\\python312\\lib\\site-packages (from requests<3,>=2->langchain-community<0.4.0,>=0.3.0->langchain_experimental) (3.3.2)\n",
            "Requirement already satisfied: idna<4,>=2.5 in c:\\users\\hp\\appdata\\local\\programs\\python\\python312\\lib\\site-packages (from requests<3,>=2->langchain-community<0.4.0,>=0.3.0->langchain_experimental) (3.7)\n",
            "Requirement already satisfied: urllib3<3,>=1.21.1 in c:\\users\\hp\\appdata\\local\\programs\\python\\python312\\lib\\site-packages (from requests<3,>=2->langchain-community<0.4.0,>=0.3.0->langchain_experimental) (2.2.2)\n",
            "Requirement already satisfied: certifi>=2017.4.17 in c:\\users\\hp\\appdata\\local\\programs\\python\\python312\\lib\\site-packages (from requests<3,>=2->langchain-community<0.4.0,>=0.3.0->langchain_experimental) (2024.6.2)\n",
            "Requirement already satisfied: greenlet>=1 in c:\\users\\hp\\appdata\\local\\programs\\python\\python312\\lib\\site-packages (from SQLAlchemy<3,>=1.4->langchain-community<0.4.0,>=0.3.0->langchain_experimental) (3.2.2)\n",
            "Requirement already satisfied: anyio in c:\\users\\hp\\appdata\\local\\programs\\python\\python312\\lib\\site-packages (from httpx<1,>=0.23.0->langsmith<0.4,>=0.1.125->langchain-community<0.4.0,>=0.3.0->langchain_experimental) (4.4.0)\n",
            "Requirement already satisfied: httpcore==1.* in c:\\users\\hp\\appdata\\local\\programs\\python\\python312\\lib\\site-packages (from httpx<1,>=0.23.0->langsmith<0.4,>=0.1.125->langchain-community<0.4.0,>=0.3.0->langchain_experimental) (1.0.5)\n",
            "Requirement already satisfied: sniffio in c:\\users\\hp\\appdata\\local\\programs\\python\\python312\\lib\\site-packages (from httpx<1,>=0.23.0->langsmith<0.4,>=0.1.125->langchain-community<0.4.0,>=0.3.0->langchain_experimental) (1.3.1)\n",
            "Requirement already satisfied: h11<0.15,>=0.13 in c:\\users\\hp\\appdata\\local\\programs\\python\\python312\\lib\\site-packages (from httpcore==1.*->httpx<1,>=0.23.0->langsmith<0.4,>=0.1.125->langchain-community<0.4.0,>=0.3.0->langchain_experimental) (0.14.0)\n",
            "Requirement already satisfied: mypy-extensions>=0.3.0 in c:\\users\\hp\\appdata\\local\\programs\\python\\python312\\lib\\site-packages (from typing-inspect<1,>=0.4.0->dataclasses-json<0.7,>=0.5.7->langchain-community<0.4.0,>=0.3.0->langchain_experimental) (1.1.0)\n"
          ]
        },
        {
          "name": "stderr",
          "output_type": "stream",
          "text": [
            "\n",
            "[notice] A new release of pip is available: 24.0 -> 25.1.1\n",
            "[notice] To update, run: python.exe -m pip install --upgrade pip\n"
          ]
        },
        {
          "name": "stdout",
          "output_type": "stream",
          "text": [
            "Requirement already satisfied: psycopg2-binary in c:\\users\\hp\\appdata\\local\\programs\\python\\python312\\lib\\site-packages (2.9.10)\n"
          ]
        },
        {
          "name": "stderr",
          "output_type": "stream",
          "text": [
            "\n",
            "[notice] A new release of pip is available: 24.0 -> 25.1.1\n",
            "[notice] To update, run: python.exe -m pip install --upgrade pip\n"
          ]
        }
      ],
      "source": [
        "!pip install langchain_experimental\n",
        "!pip install psycopg2-binary\n"
      ]
    },
    {
      "cell_type": "code",
      "execution_count": 11,
      "metadata": {
        "id": "Rv1EKzntro00"
      },
      "outputs": [],
      "source": [
        "#from langchain_community.utilities import SQLDatabase\n",
        "from langchain_experimental.sql import SQLDatabaseChain\n",
        "#from langchain_community.utilities.sql_database import SQLDatabase\n",
        "from langchain.utilities import SQLDatabase"
      ]
    },
    {
      "cell_type": "code",
      "execution_count": 15,
      "metadata": {
        "colab": {
          "base_uri": "https://localhost:8080/",
          "height": 564
        },
        "id": "vneunYeWyg4A",
        "outputId": "0d75428b-d971-44e6-cf56-be5b2917895a"
      },
      "outputs": [
        {
          "name": "stdout",
          "output_type": "stream",
          "text": [
            "Database connection established!\n",
            "\n",
            "CREATE TABLE sales_tb (\n",
            "\ttransaction_id INTEGER, \n",
            "\ttransaction_date DATE, \n",
            "\tcustomer_id VARCHAR(10), \n",
            "\tgender VARCHAR(10), \n",
            "\tage INTEGER, \n",
            "\tproduct_category VARCHAR(50), \n",
            "\tquantity INTEGER, \n",
            "\tprice_per_unit NUMERIC(10, 2), \n",
            "\ttotal_amount NUMERIC(10, 2)\n",
            ")\n",
            "\n",
            "/*\n",
            "3 rows from sales_tb table:\n",
            "transaction_id\ttransaction_date\tcustomer_id\tgender\tage\tproduct_category\tquantity\tprice_per_unit\ttotal_amount\n",
            "1\t2023-11-24\tCUST001\tMale\t34\tBeauty\t3\t50.00\t150.00\n",
            "2\t2023-02-27\tCUST002\tFemale\t26\tClothing\t2\t500.00\t1000.00\n",
            "3\t2023-01-13\tCUST003\tMale\t50\tElectronics\t1\t30.00\t30.00\n",
            "*/\n"
          ]
        }
      ],
      "source": [
        "\n",
        "\n",
        "db_user = \"postgres\"         # Replace with your PostgreSQL username\n",
        "db_password = \"pgsql123\" # Replace with your PostgreSQL password\n",
        "db_host = \"localhost\"\n",
        "db_port = \"5432\"             # Default PostgreSQL port\n",
        "db_name = \"retail_sales_db\"\n",
        "\n",
        "# PostgreSQL connection string using psycopg2\n",
        "db = SQLDatabase.from_uri(\n",
        "    f\"postgresql+psycopg2://{db_user}:{db_password}@{db_host}:{db_port}/{db_name}\",\n",
        "    sample_rows_in_table_info=3  # Fetch 3 sample rows from each table to display in metadata\n",
        ")\n",
        "\n",
        "print(\"Database connection established!\")\n",
        "print(db.table_info)\n"
      ]
    },
    {
      "cell_type": "code",
      "execution_count": 22,
      "metadata": {},
      "outputs": [
        {
          "name": "stdout",
          "output_type": "stream",
          "text": [
            "Cleaned query:\n",
            " SELECT COUNT(DISTINCT \"customer_id\") AS \"Number of Customers\" FROM sales_tb;\n",
            "Result: [(29,)]\n"
          ]
        }
      ],
      "source": [
        "#Convert question to SQL query\n",
        "from langchain.chains import create_sql_query_chain\n",
        "\n",
        "chain = create_sql_query_chain(llm, db)\n",
        "response = chain.invoke({\"question\": \"How many customers are there\"})\n",
        "\n",
        "# Example: extract just the SQL part from the response\n",
        "# This works if the response contains 'SQLQuery: ...'\n",
        "if \"SQLQuery:\" in response:\n",
        "    cleaned_query = response.split(\"SQLQuery:\")[-1].strip()\n",
        "else:\n",
        "    cleaned_query = response.strip()  # fallback if formatting is different\n",
        "\n",
        "print(\"Cleaned query:\\n\", cleaned_query)\n",
        "result = db.run(cleaned_query)\n",
        "print(\"Result:\", result)\n",
        "\n",
        "# response = chain.invoke({\"question\": \"How many customers are there\"})\n",
        "# response\n"
      ]
    },
    {
      "cell_type": "code",
      "execution_count": 25,
      "metadata": {},
      "outputs": [],
      "source": [
        "from sqlalchemy.exc import ProgrammingError\n",
        "\n",
        "chain = create_sql_query_chain(llm, db)\n",
        "\n",
        "def execute_query(question):\n",
        "    try:\n",
        "        # Generate SQL query from question\n",
        "        response = chain.invoke({\"question\": question})\n",
        "        print(response)\n",
        "        print(\"###################################################\")\n",
        "\n",
        "        # Extract SQL query part from response\n",
        "        if \"SQLQuery:\" in response:\n",
        "            cleaned_query = response.split(\"SQLQuery:\")[-1].strip()\n",
        "        else:\n",
        "            cleaned_query = response.strip()\n",
        "        \n",
        "        print(cleaned_query)\n",
        "        print(\"###################################################\")        \n",
        "\n",
        "        # Execute the cleaned query\n",
        "        result = db.run(cleaned_query)\n",
        "        print(\"###################################################\")        \n",
        "\n",
        "        # Display the result\n",
        "        print(result)\n",
        "    except ProgrammingError as e:\n",
        "        print(f\"An error occurred: {e}\")\n"
      ]
    },
    {
      "cell_type": "code",
      "execution_count": 26,
      "metadata": {},
      "outputs": [
        {
          "name": "stdout",
          "output_type": "stream",
          "text": [
            "Question: How many unique customers are there for each product category\n",
            "SQLQuery: SELECT \"product_category\", COUNT(DISTINCT \"customer_id\") AS \"unique_customer_count\" FROM sales_tb GROUP BY \"product_category\" LIMIT 5;\n",
            "###################################################\n",
            "SELECT \"product_category\", COUNT(DISTINCT \"customer_id\") AS \"unique_customer_count\" FROM sales_tb GROUP BY \"product_category\" LIMIT 5;\n",
            "###################################################\n",
            "###################################################\n",
            "[('Beauty', 8), ('Clothing', 13), ('Electronics', 8)]\n"
          ]
        }
      ],
      "source": [
        "q1 = \"How many unique customers are there for each product category\"\n",
        "execute_query(q1)"
      ]
    },
    {
      "cell_type": "code",
      "execution_count": 27,
      "metadata": {},
      "outputs": [
        {
          "name": "stdout",
          "output_type": "stream",
          "text": [
            "Question: Calculate total sales amount per product category\n",
            "SQLQuery: SELECT \"product_category\", SUM(\"total_amount\") AS \"Total Sales\" FROM sales_tb GROUP BY \"product_category\" LIMIT 5;\n",
            "###################################################\n",
            "SELECT \"product_category\", SUM(\"total_amount\") AS \"Total Sales\" FROM sales_tb GROUP BY \"product_category\" LIMIT 5;\n",
            "###################################################\n",
            "###################################################\n",
            "[('Electronics', Decimal('5310.00')), ('Clothing', Decimal('5040.00')), ('Beauty', Decimal('1455.00'))]\n"
          ]
        }
      ],
      "source": [
        "q2 = \"Calculate total sales amount per product category\"\n",
        "execute_query(q2)"
      ]
    }
  ],
  "metadata": {
    "colab": {
      "provenance": []
    },
    "kernelspec": {
      "display_name": "Python 3",
      "name": "python3"
    },
    "language_info": {
      "codemirror_mode": {
        "name": "ipython",
        "version": 3
      },
      "file_extension": ".py",
      "mimetype": "text/x-python",
      "name": "python",
      "nbconvert_exporter": "python",
      "pygments_lexer": "ipython3",
      "version": "3.12.3"
    }
  },
  "nbformat": 4,
  "nbformat_minor": 0
}
